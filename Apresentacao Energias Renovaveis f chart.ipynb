{
 "cells": [
  {
   "cell_type": "code",
   "execution_count": 183,
   "id": "de10e073",
   "metadata": {},
   "outputs": [],
   "source": [
    "import handcalcs.render\n",
    "import math as mt\n",
    "import numpy as np\n",
    "import pandas as pd\n",
    "import matplotlib.pyplot as plt\n",
    "import statistics as st\n"
   ]
  },
  {
   "cell_type": "code",
   "execution_count": 184,
   "id": "6d93e1f7",
   "metadata": {},
   "outputs": [],
   "source": [
    "L_O=-45       #Longitude Hora Legal\n",
    "L =-96.0419  #Longitude \n",
    "L_a= 41.2647   #Latitude\n",
    "Beta=0           #Inclinação \n",
    "GSC=1.367         #Constante solar  KW/m^2"
   ]
  },
  {
   "cell_type": "code",
   "execution_count": 185,
   "id": "001fd998",
   "metadata": {},
   "outputs": [],
   "source": [
    "df=pd.read_csv(\"Dados Segundo exercicio.csv\" , encoding ='UTF-8' , sep=\";\")\n",
    "\n",
    "\n"
   ]
  },
  {
   "cell_type": "markdown",
   "id": "f46a9123",
   "metadata": {},
   "source": [
    "NUMERO DO DIA NO ANO"
   ]
  },
  {
   "cell_type": "code",
   "execution_count": 186,
   "id": "e6723952",
   "metadata": {},
   "outputs": [],
   "source": [
    "df['n']= df['Dia']  + (df['Mês'] -1)*30 +df['Cor']\n"
   ]
  },
  {
   "cell_type": "markdown",
   "id": "a3932293",
   "metadata": {},
   "source": [
    "CALCULO DA HORA SOLAR "
   ]
  },
  {
   "cell_type": "code",
   "execution_count": 187,
   "id": "a98afd8e",
   "metadata": {},
   "outputs": [],
   "source": [
    "df['B']= (360/364)*(df['n']-81)"
   ]
  },
  {
   "cell_type": "code",
   "execution_count": 188,
   "id": "1efc1f6e",
   "metadata": {},
   "outputs": [],
   "source": [
    "df['E']= 9.87*np.sin(np.radians(2*df['B']))-7.53*np.cos(np.radians(df['B']))-1.5*np.sin(np.radians(df['B']))"
   ]
  },
  {
   "cell_type": "code",
   "execution_count": 189,
   "id": "800df1b2",
   "metadata": {},
   "outputs": [],
   "source": [
    "df['Corhora']= (4*(L_O-L)+df['E'])/60"
   ]
  },
  {
   "cell_type": "code",
   "execution_count": 190,
   "id": "1a2f3037",
   "metadata": {},
   "outputs": [],
   "source": [
    "HL=09.00\n"
   ]
  },
  {
   "cell_type": "code",
   "execution_count": 191,
   "id": "2c058312",
   "metadata": {},
   "outputs": [],
   "source": [
    "df['HS']= HL+df['Corhora']\n"
   ]
  },
  {
   "cell_type": "markdown",
   "id": "90bf6942",
   "metadata": {},
   "source": [
    "ÂNGULO HORARIO"
   ]
  },
  {
   "cell_type": "code",
   "execution_count": 192,
   "id": "c79b5de7",
   "metadata": {},
   "outputs": [],
   "source": [
    "df['Omega']= (df['HS']-12)*15"
   ]
  },
  {
   "cell_type": "markdown",
   "id": "6ca6a78a",
   "metadata": {},
   "source": [
    "DECLINAÇÃO SOLAR "
   ]
  },
  {
   "cell_type": "code",
   "execution_count": 193,
   "id": "e7c89551",
   "metadata": {},
   "outputs": [],
   "source": [
    "df['sigma']= 23.45*np.sin(np.radians(360/365*(284+df['n'])))"
   ]
  },
  {
   "cell_type": "markdown",
   "id": "4c94cc0f",
   "metadata": {},
   "source": [
    "ÂNGULO ZENITAL "
   ]
  },
  {
   "cell_type": "code",
   "execution_count": 194,
   "id": "73a7fc2f",
   "metadata": {},
   "outputs": [],
   "source": [
    "df['teta_z']= np.degrees(np.arccos(np.sin(np.radians(df['sigma']))*(np.sin(np.radians(L_a))+np.cos(np.radians(df['sigma']))*np.cos(np.radians(L_a))*np.cos(np.radians(df['Omega'])))))\n",
    "\n"
   ]
  },
  {
   "cell_type": "markdown",
   "id": "cdd07759",
   "metadata": {},
   "source": [
    "ÂNGULO DE INCIDENCIA "
   ]
  },
  {
   "cell_type": "code",
   "execution_count": 195,
   "id": "c8f1ae32",
   "metadata": {},
   "outputs": [],
   "source": [
    "df['teta']=np.degrees(np.arccos(np.cos(np.radians(L_a+Beta)*np.cos(np.radians(df['sigma']))*np.cos(np.radians(df['Omega']))+np.sin(np.radians(L_a+Beta))*np.sin(np.radians(df['sigma'])))))\n"
   ]
  },
  {
   "cell_type": "markdown",
   "id": "1fcaf723",
   "metadata": {},
   "source": [
    "IRRADIAÇÃO EXTRATERRESTE SOBRE UMA SUPERFICIE HORIZONTAL EM UM PONTO DA TERRA"
   ]
  },
  {
   "cell_type": "code",
   "execution_count": 196,
   "id": "775034d8",
   "metadata": {},
   "outputs": [],
   "source": [
    "df['GO']=GSC*(1+0.033*np.cos(np.radians((360*df['n'])/365)))*np.cos(np.radians(df['teta_z']))\n"
   ]
  },
  {
   "cell_type": "markdown",
   "id": "b957a070",
   "metadata": {},
   "source": [
    "ÂNGULO HORÁRIO DO PÔR DO SOL "
   ]
  },
  {
   "cell_type": "code",
   "execution_count": 197,
   "id": "6565e6a6",
   "metadata": {},
   "outputs": [],
   "source": [
    "df['omega_s']=np.degrees(np.arccos((-np.tan(np.radians(L_a))*np.tan(np.radians(df['sigma'])))))\n"
   ]
  },
  {
   "cell_type": "markdown",
   "id": "ffba031e",
   "metadata": {},
   "source": [
    "IRRADIAÇÃO EXTRATERRESTRE INTEGRADA HORARI SOBRE SUPERFICIE HORIZONTAL "
   ]
  },
  {
   "cell_type": "code",
   "execution_count": 198,
   "id": "95749487",
   "metadata": {},
   "outputs": [],
   "source": [
    "df['HO']=((2.75*10**4)*GSC*((1+0.033*np.cos(np.radians((360*df['n'])/365))))*(((1.75*10**-2)*df['omega_s']*np.sin(np.radians(df['sigma']))*np.sin(np.radians(L_a))+np.cos(np.radians(df['sigma']))*np.cos(np.radians(L_a))*np.sin(np.radians(df['omega_s'])))))/1000\n"
   ]
  },
  {
   "cell_type": "code",
   "execution_count": 199,
   "id": "1cb45cb7",
   "metadata": {},
   "outputs": [],
   "source": [
    "df['H']=pd.read_csv(\"Irradiação integrada diaria.csv\" , encoding ='UTF-8' , sep=\";\")\n"
   ]
  },
  {
   "cell_type": "code",
   "execution_count": 200,
   "id": "a045f161",
   "metadata": {},
   "outputs": [
    {
     "data": {
      "text/plain": [
       "0     0.597165\n",
       "1     0.586144\n",
       "2     0.555006\n",
       "3     0.565694\n",
       "4     0.542612\n",
       "5     0.564324\n",
       "6     0.585219\n",
       "7     0.600395\n",
       "8     0.562714\n",
       "9     0.563389\n",
       "10    0.530442\n",
       "11    0.540804\n",
       "Name: KT, dtype: float64"
      ]
     },
     "execution_count": 200,
     "metadata": {},
     "output_type": "execute_result"
    }
   ],
   "source": [
    "df['KT']=df['H']/df['HO']\n",
    "df['KT']"
   ]
  },
  {
   "cell_type": "code",
   "execution_count": 201,
   "id": "2e5b9d49",
   "metadata": {},
   "outputs": [
    {
     "data": {
      "text/plain": [
       "0     0.345916\n",
       "1     0.366732\n",
       "2     0.426837\n",
       "3     0.406074\n",
       "4     0.450948\n",
       "5     0.408731\n",
       "6     0.368496\n",
       "7     0.339886\n",
       "8     0.411856\n",
       "9     0.410544\n",
       "10    0.474553\n",
       "11    0.454462\n",
       "Name: Hd/H1, dtype: float64"
      ]
     },
     "execution_count": 201,
     "metadata": {},
     "output_type": "execute_result"
    }
   ],
   "source": [
    "df['Hd/H1']=1.118-2.272*df['KT']+9.473*df['KT']**2-21.865*df['KT']**3+14.648*df['KT']**4\n",
    "df['Hd/H1']"
   ]
  },
  {
   "cell_type": "code",
   "execution_count": 202,
   "id": "ee7a3a23",
   "metadata": {},
   "outputs": [
    {
     "data": {
      "text/plain": [
       "0     0.304214\n",
       "1     0.331745\n",
       "2     0.377199\n",
       "3     0.401117\n",
       "4     0.444467\n",
       "5     0.441734\n",
       "6     0.420660\n",
       "7     0.389144\n",
       "8     0.384323\n",
       "9     0.353237\n",
       "10    0.345147\n",
       "11    0.325766\n",
       "Name: Hd/H, dtype: float64"
      ]
     },
     "execution_count": 202,
     "metadata": {},
     "output_type": "execute_result"
    }
   ],
   "source": [
    "df['Hd/H']=0.775+0.0065*(df['omega_s']-90)-(0.505+0.00455*(df['omega_s']-90))*np.cos(np.radians(115*df['KT']-103))\n",
    "df['Hd/H']"
   ]
  },
  {
   "cell_type": "code",
   "execution_count": 203,
   "id": "1665e6df",
   "metadata": {},
   "outputs": [],
   "source": [
    "df['Hd']=df['Hd/H']*df['H']\n"
   ]
  },
  {
   "cell_type": "code",
   "execution_count": 204,
   "id": "37b14c56",
   "metadata": {},
   "outputs": [],
   "source": [
    "df['Hb']=df['H']-df['Hd']\n"
   ]
  },
  {
   "cell_type": "code",
   "execution_count": 205,
   "id": "50faa303",
   "metadata": {},
   "outputs": [
    {
     "data": {
      "text/plain": [
       "Text(0, 0.5, 'Irradiação Solar ')"
      ]
     },
     "execution_count": 205,
     "metadata": {},
     "output_type": "execute_result"
    },
    {
     "data": {
      "image/png": "[encoded data removed]",
      "text/plain": [
       "<Figure size 432x288 with 1 Axes>"
      ]
     },
     "metadata": {
      "needs_background": "light"
     },
     "output_type": "display_data"
    }
   ],
   "source": [
    "df[[\"Hd\", \"Hb\", ]].plot(kind=\"bar\", stacked=True)\n",
    "plt.title(\"Índice de claridade e irradiação solar PLANO HORIZONTAL\")\n",
    "plt.xlabel(\"Meses\")\n",
    "plt.ylabel(\"Irradiação Solar \")"
   ]
  },
  {
   "cell_type": "markdown",
   "id": "821abcdf",
   "metadata": {},
   "source": [
    "Superficie no hemisferio Sul  "
   ]
  },
  {
   "cell_type": "code",
   "execution_count": 206,
   "id": "a0b861a4",
   "metadata": {},
   "outputs": [],
   "source": [
    "Beta_incli=40"
   ]
  },
  {
   "cell_type": "code",
   "execution_count": 207,
   "id": "658de9c0",
   "metadata": {},
   "outputs": [],
   "source": [
    "df['omega_s*']=np.degrees(np.arccos((-np.tan(np.radians(L_a-Beta_incli))*np.tan(np.radians(df['sigma'])))))\n"
   ]
  },
  {
   "cell_type": "code",
   "execution_count": 208,
   "id": "2f88c70c",
   "metadata": {},
   "outputs": [],
   "source": [
    "df['Rb']=(np.cos(np.radians(L_a-Beta_incli))*np.cos(np.radians(df['sigma']))*np.sin(np.radians(df['omega_s*']))+(np.pi/180)*df['omega_s*']*np.sin(np.radians(L_a-Beta_incli))*np.sin(np.radians(df['sigma'])))/(np.cos(np.radians(L_a))*np.cos(np.radians(df['sigma']))*np.sin(np.radians(df['omega_s']))+(np.pi/180)*df['omega_s']*np.sin(np.radians(L_a))*np.sin(np.radians(df['sigma'])))\n"
   ]
  },
  {
   "cell_type": "code",
   "execution_count": 209,
   "id": "8d42c879",
   "metadata": {},
   "outputs": [],
   "source": [
    "rho=0.2"
   ]
  },
  {
   "cell_type": "code",
   "execution_count": 210,
   "id": "f206efe3",
   "metadata": {},
   "outputs": [
    {
     "data": {
      "text/plain": [
       "0     2.015025\n",
       "1     1.569876\n",
       "2     1.234081\n",
       "3     1.024109\n",
       "4     0.909712\n",
       "5     0.867863\n",
       "6     0.885218\n",
       "7     0.973011\n",
       "8     1.140780\n",
       "9     1.434620\n",
       "10    1.829334\n",
       "11    2.136270\n",
       "Name: R, dtype: float64"
      ]
     },
     "execution_count": 210,
     "metadata": {},
     "output_type": "execute_result"
    }
   ],
   "source": [
    "df['R']=(1-df['Hd/H'])*df['Rb']+df['Hd/H']*((1+np.cos(np.radians(Beta_incli)))/2)+rho*(((1-np.cos(np.radians(Beta_incli)))/2))\n",
    "df['R']"
   ]
  },
  {
   "cell_type": "code",
   "execution_count": 211,
   "id": "cdc31797",
   "metadata": {},
   "outputs": [
    {
     "data": {
      "text/plain": [
       "0     17.329216\n",
       "1     18.210559\n",
       "2     18.387812\n",
       "3     19.867716\n",
       "4     19.558804\n",
       "5     20.481559\n",
       "6     21.068197\n",
       "7     21.211640\n",
       "8     18.936949\n",
       "9     17.645827\n",
       "10    15.183475\n",
       "11    14.953888\n",
       "Name: HT, dtype: float64"
      ]
     },
     "execution_count": 211,
     "metadata": {},
     "output_type": "execute_result"
    }
   ],
   "source": [
    "df['HT']=df['R']*df['H']\n",
    "df['HT']"
   ]
  },
  {
   "cell_type": "code",
   "execution_count": 212,
   "id": "a3d76640",
   "metadata": {},
   "outputs": [],
   "source": [
    "df['HTb']=(1-df['Hd/H'])*df['Rb']*df['H']\n"
   ]
  },
  {
   "cell_type": "code",
   "execution_count": 213,
   "id": "a72bb8df",
   "metadata": {},
   "outputs": [],
   "source": [
    "df['HTd']=df['Hd/H']*((1+np.cos(np.radians(Beta_incli)))/2)*df['H']\n"
   ]
  },
  {
   "cell_type": "code",
   "execution_count": 214,
   "id": "bfb10a2b",
   "metadata": {},
   "outputs": [],
   "source": [
    "df['HTr']=rho*(((1-np.cos(np.radians(Beta_incli)))/2))*df['H']\n"
   ]
  },
  {
   "cell_type": "code",
   "execution_count": 215,
   "id": "ae8a9512",
   "metadata": {},
   "outputs": [
    {
     "data": {
      "text/plain": [
       "Text(0, 0.5, 'Irradiação Solar ')"
      ]
     },
     "execution_count": 215,
     "metadata": {},
     "output_type": "execute_result"
    },
    {
     "data": {
      "image/png": "[encoded data removed]",
      "text/plain": [
       "<Figure size 432x288 with 1 Axes>"
      ]
     },
     "metadata": {
      "needs_background": "light"
     },
     "output_type": "display_data"
    }
   ],
   "source": [
    "df[[\"HTd\", \"HTb\", \"HTr\"]].plot(kind=\"bar\", stacked=True)\n",
    "plt.title(\"Índice de  irradiação solar PLANO INCLINADO 45°\")\n",
    "plt.xlabel(\"Meses\")\n",
    "plt.ylabel(\"Irradiação Solar \")"
   ]
  },
  {
   "cell_type": "code",
   "execution_count": 216,
   "id": "ee65d187",
   "metadata": {},
   "outputs": [],
   "source": [
    "df1=pd.DataFrame({\"Mês\":df['Mês'],\"Omega_s*\":df['omega_s*'],\"Rb*\":df['Rb'],\"R\":df['R'],\"HT\":df['HT'],\"HTd\":df['HTd'],\"HTb\":df['HTb'],\"HTr\":df['HTr']})\n"
   ]
  },
  {
   "cell_type": "code",
   "execution_count": 217,
   "id": "85da199b",
   "metadata": {},
   "outputs": [],
   "source": [
    "df['a']= 0.409 + 0.5016*np.sin(np.radians(df['omega_s']-60))\n",
    "df['b']=0.6609-0.4767*np.sin(np.radians(df['omega_s']-60))"
   ]
  },
  {
   "cell_type": "code",
   "execution_count": 218,
   "id": "18e0a36c",
   "metadata": {},
   "outputs": [],
   "source": [
    "df['r_dn']=(np.pi/24)*((np.cos(np.radians(df['Omega']))-np.cos(np.radians(df['omega_s'])))/(np.sin(np.radians(df['omega_s']))-((np.pi/180)*df['omega_s']*np.cos(np.radians(df['omega_s'])))))\n"
   ]
  },
  {
   "cell_type": "code",
   "execution_count": 219,
   "id": "d0576755",
   "metadata": {},
   "outputs": [],
   "source": [
    "df['r_tn']=(np.pi/24)*(df['a']+df['b']*np.cos(np.radians(df['Omega'])))*((np.cos(np.radians(df['Omega']))-np.cos(np.radians(df['omega_s'])))/(np.sin(np.radians(df['omega_s']))-np.pi/180*df['omega_s']*np.cos(np.radians(df['omega_s']))))\n",
    " "
   ]
  },
  {
   "cell_type": "code",
   "execution_count": 220,
   "id": "96236f68",
   "metadata": {},
   "outputs": [],
   "source": [
    "df['r_dn/r_tn']=df['r_dn']/df['r_tn']\n"
   ]
  },
  {
   "cell_type": "code",
   "execution_count": 221,
   "id": "b07cf22a",
   "metadata": {},
   "outputs": [],
   "source": [
    "df['R_bn']=np.absolute(np.cos(np.radians(L_a-df['sigma']-Beta_incli)))/np.absolute(np.cos(np.radians(L_a-df['sigma'])))\n",
    " "
   ]
  },
  {
   "cell_type": "code",
   "execution_count": 222,
   "id": "ccbb4070",
   "metadata": {},
   "outputs": [],
   "source": [
    "df['R_n']=(1-df['r_dn/r_tn']*df['Hd/H'])*df['R_bn']+df['r_dn/r_tn']*df['Hd/H']*((1+np.cos(np.radians(Beta_incli)))/2)+rho*(((1-np.cos(np.radians(Beta_incli)))/2))\n"
   ]
  },
  {
   "cell_type": "code",
   "execution_count": 223,
   "id": "4090c714",
   "metadata": {},
   "outputs": [],
   "source": [
    "df['R/R_n']=df['R_n']/df['R']\n",
    " "
   ]
  },
  {
   "cell_type": "markdown",
   "id": "4e0d5f22",
   "metadata": {},
   "source": [
    "df=pd.read_csv(\"temperatura externa.csv\" , encoding ='UTF-8' , sep=\";\")\n"
   ]
  },
  {
   "cell_type": "code",
   "execution_count": 224,
   "id": "d36a32c4",
   "metadata": {},
   "outputs": [],
   "source": [
    "Fr_UL=2.63\n",
    "A_c=50.0\n",
    "Fr_taualpha=0.72\n",
    "Q=16.1**9\n",
    "df['taualpha/taualphan']=0.94"
   ]
  },
  {
   "cell_type": "code",
   "execution_count": 225,
   "id": "71af4916",
   "metadata": {},
   "outputs": [],
   "source": [
    "df['delta_i']=86400*30\n"
   ]
  },
  {
   "cell_type": "markdown",
   "id": "b6123a0a",
   "metadata": {},
   "source": [
    "df1=pd.read_csv(\"temperatura externa.csv\" , encoding ='UTF-8' , sep=\";\")"
   ]
  },
  {
   "cell_type": "code",
   "execution_count": null,
   "id": "029cf8a2",
   "metadata": {},
   "outputs": [],
   "source": []
  },
  {
   "cell_type": "code",
   "execution_count": 226,
   "id": "28362a41",
   "metadata": {},
   "outputs": [],
   "source": [
    "df['X_i']=(A_c*Fr_UL*(31*24)*100)/(12000*12*31)\n",
    " "
   ]
  },
  {
   "cell_type": "code",
   "execution_count": 227,
   "id": "6511e003",
   "metadata": {},
   "outputs": [],
   "source": [
    "Q1=(16.1)**3"
   ]
  },
  {
   "cell_type": "code",
   "execution_count": 228,
   "id": "cb090282",
   "metadata": {},
   "outputs": [],
   "source": [
    "df['Y_i']=(A_c*Fr_taualpha*df['taualpha/taualphan']*df['HT']*31*10**6)/(12000*12*3600*31)\n",
    " "
   ]
  },
  {
   "cell_type": "code",
   "execution_count": 298,
   "id": "c88d2d08",
   "metadata": {},
   "outputs": [],
   "source": [
    "df['f']=1.029-0.065*df['X_i']-0.245*df['Y_i']**2+0.0018**2+0.025*df['Y_i']\n"
   ]
  },
  {
   "cell_type": "code",
   "execution_count": 297,
   "id": "8fa1aaee",
   "metadata": {},
   "outputs": [],
   "source": [
    "df2=pd.DataFrame({\"Y_i\":df['Y_i'],\"X_i\":df['X_i'],\"f\":df['f']})\n"
   ]
  },
  {
   "cell_type": "code",
   "execution_count": 296,
   "id": "afab3981",
   "metadata": {},
   "outputs": [
    {
     "data": {
      "image/png": "[encoded data removed]",
      "text/plain": [
       "<Figure size 432x288 with 1 Axes>"
      ]
     },
     "metadata": {
      "needs_background": "light"
     },
     "output_type": "display_data"
    }
   ],
   "source": [
    "\n",
    "from pandas.plotting import parallel_coordinates\n",
    "\n",
    "parallel_coordinates(df2, 'f')\n",
    "plt.title(\"metodo f chart \")\n",
    "plt.xlabel(\"Perda do coletor \")\n",
    "plt.ylabel(\"Calor Absorvido  \")\n",
    "plt.show()"
   ]
  },
  {
   "cell_type": "code",
   "execution_count": null,
   "id": "a0d440c1",
   "metadata": {},
   "outputs": [],
   "source": []
  },
  {
   "cell_type": "code",
   "execution_count": null,
   "id": "4b47a811",
   "metadata": {},
   "outputs": [],
   "source": []
  },
  {
   "cell_type": "code",
   "execution_count": null,
   "id": "6072fb69",
   "metadata": {},
   "outputs": [],
   "source": []
  },
  {
   "cell_type": "code",
   "execution_count": null,
   "id": "7689e3a1",
   "metadata": {},
   "outputs": [],
   "source": []
  },
  {
   "cell_type": "code",
   "execution_count": null,
   "id": "fcde1785",
   "metadata": {},
   "outputs": [],
   "source": []
  }
 ],
 "metadata": {
  "celltoolbar": "Raw Cell Format",
  "kernelspec": {
   "display_name": "Python 3",
   "language": "python",
   "name": "python3"
  },
  "language_info": {
   "codemirror_mode": {
    "name": "ipython",
    "version": 3
   },
   "file_extension": ".py",
   "mimetype": "text/x-python",
   "name": "python",
   "nbconvert_exporter": "python",
   "pygments_lexer": "ipython3",
   "version": "3.8.8"
  }
 },
 "nbformat": 4,
 "nbformat_minor": 5
}
